{
 "cells": [
  {
   "cell_type": "markdown",
   "metadata": {},
   "source": [
    "# Application: Creating Dense City-Scale Traffic Models"
   ]
  },
  {
   "cell_type": "markdown",
   "metadata": {},
   "source": [
    "Copyright © Scott Workman. 2024."
   ]
  },
  {
   "cell_type": "code",
   "execution_count": null,
   "metadata": {},
   "outputs": [],
   "source": [
    "import math\n",
    "import numpy as np\n",
    "import osmnx as ox\n",
    "import pandas as pd\n",
    "import matplotlib.cm as cm\n",
    "import matplotlib.colors as colors\n",
    "\n",
    "ox.settings.log_console = True\n",
    "ox.settings.use_cache = True\n",
    "ox.__version__"
   ]
  },
  {
   "cell_type": "markdown",
   "metadata": {},
   "source": [
    "## Setup"
   ]
  },
  {
   "cell_type": "markdown",
   "metadata": {},
   "source": [
    "load results produced by extract/extract_speeds.py"
   ]
  },
  {
   "cell_type": "code",
   "execution_count": null,
   "metadata": {},
   "outputs": [],
   "source": [
    "df = pd.read_pickle('results.pkl')"
   ]
  },
  {
   "cell_type": "markdown",
   "metadata": {},
   "source": [
    "generate the street network"
   ]
  },
  {
   "cell_type": "code",
   "execution_count": null,
   "metadata": {},
   "outputs": [],
   "source": [
    "place = 'Brooklyn, NY, USA'\n",
    "\n",
    "G = ox.graph_from_place(place, network_type='drive')\n",
    "G = ox.project_graph(G)\n",
    "G_tar = G.copy()"
   ]
  },
  {
   "cell_type": "markdown",
   "metadata": {},
   "source": [
    "create lookup table (segment -> speed)"
   ]
  },
  {
   "cell_type": "code",
   "execution_count": null,
   "metadata": {},
   "outputs": [],
   "source": [
    "edge_lookup_pred = {}\n",
    "edge_lookup_tar = {}\n",
    "\n",
    "for index, row in df.iterrows():\n",
    "  start = row['osmstartnode']\n",
    "  end = row['osmendnode']\n",
    "  if (start == \"nan\") or (end == \"nan\"):\n",
    "    continue\n",
    "  edge_lookup_pred[(int(start), int(end))] = row['prediction']\n",
    "  edge_lookup_tar[(int(start), int(end))] = row['target']\n",
    "\n",
    "print(len(edge_lookup_pred.keys()))"
   ]
  },
  {
   "cell_type": "markdown",
   "metadata": {},
   "source": [
    "edges weighted by travel time"
   ]
  },
  {
   "cell_type": "code",
   "execution_count": null,
   "metadata": {},
   "outputs": [],
   "source": [
    "meters_per_minute = lambda x: x * 1000 / 60  # km/h to m/m\n",
    "\n",
    "def compute_edge_values(G, edge_lookup, default_speed):\n",
    "  edge_values = []\n",
    "  to_remove = []\n",
    "\n",
    "  for u, v, data in G.edges(data=True):\n",
    "    if (u, v) in edge_lookup.keys():\n",
    "      speed = edge_lookup[(u, v)]\n",
    "    else:\n",
    "      speed = default_speed\n",
    "\n",
    "    if math.isnan(speed):\n",
    "      to_remove.append((u, v))\n",
    "      continue\n",
    "\n",
    "    edge_values.append(np.log(meters_per_minute(speed)))\n",
    "\n",
    "  for u, v in to_remove:\n",
    "    G.remove_edge(u, v)\n",
    "\n",
    "  return edge_values"
   ]
  },
  {
   "cell_type": "code",
   "execution_count": null,
   "metadata": {},
   "outputs": [],
   "source": [
    "edge_values_pred = compute_edge_values(G, edge_lookup_pred,\n",
    "                                       df['prediction'].mean())\n",
    "edge_values_tar = compute_edge_values(G_tar, edge_lookup_tar,\n",
    "                                      df['target'].mean())"
   ]
  },
  {
   "cell_type": "markdown",
   "metadata": {},
   "source": [
    "## Visualize"
   ]
  },
  {
   "cell_type": "code",
   "execution_count": null,
   "metadata": {},
   "outputs": [],
   "source": [
    "vmin = 5.5\n",
    "vmax = 6.8\n",
    "\n",
    "norm = colors.Normalize(vmin=vmin, vmax=vmax)\n",
    "cmap = cm.ScalarMappable(norm=norm, cmap='RdYlGn')"
   ]
  },
  {
   "cell_type": "markdown",
   "metadata": {},
   "source": [
    "### Prediction"
   ]
  },
  {
   "cell_type": "code",
   "execution_count": null,
   "metadata": {},
   "outputs": [],
   "source": [
    "edge_colors = [cmap.to_rgba(cl) for cl in edge_values_pred]\n",
    "\n",
    "fig, ax0 = ox.plot_graph(G,\n",
    "                         bgcolor='w',\n",
    "                         show=False,\n",
    "                         close=False,\n",
    "                         node_size=0,\n",
    "                         node_color='k',\n",
    "                         node_edgecolor='gray',\n",
    "                         node_zorder=2,\n",
    "                         node_alpha=0.9,\n",
    "                         edge_color=edge_colors,\n",
    "                         edge_linewidth=2.5,\n",
    "                         edge_alpha=0.9,\n",
    "                         figsize=(12, 12))\n",
    "fig, ax = ox.plot_graph(G,\n",
    "                        bgcolor='w',\n",
    "                        edge_color=\"k\",\n",
    "                        edge_linewidth=1,\n",
    "                        edge_alpha=0.35,\n",
    "                        node_size=0,\n",
    "                        node_color='none',\n",
    "                        ax=ax0,\n",
    "                        figsize=(12, 12))"
   ]
  },
  {
   "cell_type": "markdown",
   "metadata": {},
   "source": [
    "### Ground Truth"
   ]
  },
  {
   "cell_type": "code",
   "execution_count": null,
   "metadata": {},
   "outputs": [],
   "source": [
    "edge_colors = [cmap.to_rgba(cl) for cl in edge_values_tar]\n",
    "\n",
    "fig, ax0 = ox.plot_graph(G_tar,\n",
    "                         bgcolor='w',\n",
    "                         show=False,\n",
    "                         close=False,\n",
    "                         node_size=0,\n",
    "                         node_color='k',\n",
    "                         node_edgecolor='gray',\n",
    "                         node_zorder=2,\n",
    "                         node_alpha=0.9,\n",
    "                         edge_color=edge_colors,\n",
    "                         edge_linewidth=2.5,\n",
    "                         edge_alpha=0.9,\n",
    "                         figsize=(12, 12))\n",
    "fig, ax = ox.plot_graph(G_tar,\n",
    "                        bgcolor='w',\n",
    "                        edge_color=\"k\",\n",
    "                        edge_linewidth=1,\n",
    "                        edge_alpha=0.35,\n",
    "                        node_size=0,\n",
    "                        node_color='none',\n",
    "                        ax=ax0,\n",
    "                        figsize=(12, 12))"
   ]
  },
  {
   "cell_type": "code",
   "execution_count": null,
   "metadata": {},
   "outputs": [],
   "source": []
  }
 ],
 "metadata": {
  "kernelspec": {
   "display_name": "Python [conda env:image-driven]",
   "language": "python",
   "name": "conda-env-image-driven-py"
  },
  "language_info": {
   "codemirror_mode": {
    "name": "ipython",
    "version": 3
   },
   "file_extension": ".py",
   "mimetype": "text/x-python",
   "name": "python",
   "nbconvert_exporter": "python",
   "pygments_lexer": "ipython3",
   "version": "3.10.14"
  }
 },
 "nbformat": 4,
 "nbformat_minor": 4
}
